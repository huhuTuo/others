{
 "cells": [
  {
   "cell_type": "code",
   "execution_count": 6,
   "metadata": {
    "id": "W8Urk2DwxaJW"
   },
   "outputs": [],
   "source": [
    "import numpy as np\n",
    "import pandas as pd"
   ]
  },
  {
   "cell_type": "code",
   "execution_count": 7,
   "metadata": {
    "colab": {
     "base_uri": "https://localhost:8080/",
     "height": 172
    },
    "id": "wvZD6XgR9_yl",
    "outputId": "51df3c5e-8e05-4973-e96d-646d9f46765c"
   },
   "outputs": [
    {
     "data": {
      "text/html": [
       "<div>\n",
       "<style scoped>\n",
       "    .dataframe tbody tr th:only-of-type {\n",
       "        vertical-align: middle;\n",
       "    }\n",
       "\n",
       "    .dataframe tbody tr th {\n",
       "        vertical-align: top;\n",
       "    }\n",
       "\n",
       "    .dataframe thead th {\n",
       "        text-align: right;\n",
       "    }\n",
       "</style>\n",
       "<table border=\"1\" class=\"dataframe\">\n",
       "  <thead>\n",
       "    <tr style=\"text-align: right;\">\n",
       "      <th></th>\n",
       "      <th>Number of Kids</th>\n",
       "      <th>Working Experience(years)</th>\n",
       "      <th>Age</th>\n",
       "      <th>Salary</th>\n",
       "      <th>Blood Types</th>\n",
       "    </tr>\n",
       "  </thead>\n",
       "  <tbody>\n",
       "    <tr>\n",
       "      <th>0</th>\n",
       "      <td>3</td>\n",
       "      <td>15.0</td>\n",
       "      <td>45</td>\n",
       "      <td>250000</td>\n",
       "      <td>A</td>\n",
       "    </tr>\n",
       "    <tr>\n",
       "      <th>1</th>\n",
       "      <td>1</td>\n",
       "      <td>5.0</td>\n",
       "      <td>30</td>\n",
       "      <td>200000</td>\n",
       "      <td>B</td>\n",
       "    </tr>\n",
       "    <tr>\n",
       "      <th>2</th>\n",
       "      <td>2</td>\n",
       "      <td>10.0</td>\n",
       "      <td>38</td>\n",
       "      <td>150000</td>\n",
       "      <td>AB</td>\n",
       "    </tr>\n",
       "    <tr>\n",
       "      <th>3</th>\n",
       "      <td>1</td>\n",
       "      <td>NaN</td>\n",
       "      <td>36</td>\n",
       "      <td>180000</td>\n",
       "      <td>O</td>\n",
       "    </tr>\n",
       "  </tbody>\n",
       "</table>\n",
       "</div>"
      ],
      "text/plain": [
       "   Number of Kids  Working Experience(years)  Age  Salary Blood Types\n",
       "0               3                       15.0   45  250000           A\n",
       "1               1                        5.0   30  200000           B\n",
       "2               2                       10.0   38  150000          AB\n",
       "3               1                        NaN   36  180000           O"
      ]
     },
     "execution_count": 7,
     "metadata": {},
     "output_type": "execute_result"
    }
   ],
   "source": [
    "data = pd.read_csv(\"data.csv\")\n",
    "data"
   ]
  },
  {
   "cell_type": "markdown",
   "metadata": {
    "id": "jk4XIsl5_22J"
   },
   "source": [
    "# **Pandas' Approach to replace the missing values of only one attribute**"
   ]
  },
  {
   "cell_type": "markdown",
   "metadata": {
    "id": "aqYxvq8KAKtH"
   },
   "source": [
    "# **Option 1: Get rid of the corresponding districts.**"
   ]
  },
  {
   "cell_type": "code",
   "execution_count": 8,
   "metadata": {
    "colab": {
     "base_uri": "https://localhost:8080/",
     "height": 142
    },
    "id": "0QDLxNzj_P_6",
    "outputId": "a3f6acf3-d3aa-4adc-bced-4dc2d6a88fb8"
   },
   "outputs": [
    {
     "data": {
      "text/html": [
       "<div>\n",
       "<style scoped>\n",
       "    .dataframe tbody tr th:only-of-type {\n",
       "        vertical-align: middle;\n",
       "    }\n",
       "\n",
       "    .dataframe tbody tr th {\n",
       "        vertical-align: top;\n",
       "    }\n",
       "\n",
       "    .dataframe thead th {\n",
       "        text-align: right;\n",
       "    }\n",
       "</style>\n",
       "<table border=\"1\" class=\"dataframe\">\n",
       "  <thead>\n",
       "    <tr style=\"text-align: right;\">\n",
       "      <th></th>\n",
       "      <th>Number of Kids</th>\n",
       "      <th>Working Experience(years)</th>\n",
       "      <th>Age</th>\n",
       "      <th>Salary</th>\n",
       "      <th>Blood Types</th>\n",
       "    </tr>\n",
       "  </thead>\n",
       "  <tbody>\n",
       "    <tr>\n",
       "      <th>0</th>\n",
       "      <td>3</td>\n",
       "      <td>15.0</td>\n",
       "      <td>45</td>\n",
       "      <td>250000</td>\n",
       "      <td>A</td>\n",
       "    </tr>\n",
       "    <tr>\n",
       "      <th>1</th>\n",
       "      <td>1</td>\n",
       "      <td>5.0</td>\n",
       "      <td>30</td>\n",
       "      <td>200000</td>\n",
       "      <td>B</td>\n",
       "    </tr>\n",
       "    <tr>\n",
       "      <th>2</th>\n",
       "      <td>2</td>\n",
       "      <td>10.0</td>\n",
       "      <td>38</td>\n",
       "      <td>150000</td>\n",
       "      <td>AB</td>\n",
       "    </tr>\n",
       "  </tbody>\n",
       "</table>\n",
       "</div>"
      ],
      "text/plain": [
       "   Number of Kids  Working Experience(years)  Age  Salary Blood Types\n",
       "0               3                       15.0   45  250000           A\n",
       "1               1                        5.0   30  200000           B\n",
       "2               2                       10.0   38  150000          AB"
      ]
     },
     "execution_count": 8,
     "metadata": {},
     "output_type": "execute_result"
    }
   ],
   "source": [
    "data.dropna(subset=[\"Working Experience(years)\"])  "
   ]
  },
  {
   "cell_type": "markdown",
   "metadata": {
    "id": "egpdDlcXASrM"
   },
   "source": [
    "# **Option 2: Get rid of the whole attribute.**"
   ]
  },
  {
   "cell_type": "code",
   "execution_count": 9,
   "metadata": {
    "colab": {
     "base_uri": "https://localhost:8080/",
     "height": 172
    },
    "id": "knUAlt1N_lZH",
    "outputId": "19c8af8a-fb8a-43a1-c830-ab0f20fb2a8e"
   },
   "outputs": [
    {
     "data": {
      "text/html": [
       "<div>\n",
       "<style scoped>\n",
       "    .dataframe tbody tr th:only-of-type {\n",
       "        vertical-align: middle;\n",
       "    }\n",
       "\n",
       "    .dataframe tbody tr th {\n",
       "        vertical-align: top;\n",
       "    }\n",
       "\n",
       "    .dataframe thead th {\n",
       "        text-align: right;\n",
       "    }\n",
       "</style>\n",
       "<table border=\"1\" class=\"dataframe\">\n",
       "  <thead>\n",
       "    <tr style=\"text-align: right;\">\n",
       "      <th></th>\n",
       "      <th>Number of Kids</th>\n",
       "      <th>Age</th>\n",
       "      <th>Salary</th>\n",
       "      <th>Blood Types</th>\n",
       "    </tr>\n",
       "  </thead>\n",
       "  <tbody>\n",
       "    <tr>\n",
       "      <th>0</th>\n",
       "      <td>3</td>\n",
       "      <td>45</td>\n",
       "      <td>250000</td>\n",
       "      <td>A</td>\n",
       "    </tr>\n",
       "    <tr>\n",
       "      <th>1</th>\n",
       "      <td>1</td>\n",
       "      <td>30</td>\n",
       "      <td>200000</td>\n",
       "      <td>B</td>\n",
       "    </tr>\n",
       "    <tr>\n",
       "      <th>2</th>\n",
       "      <td>2</td>\n",
       "      <td>38</td>\n",
       "      <td>150000</td>\n",
       "      <td>AB</td>\n",
       "    </tr>\n",
       "    <tr>\n",
       "      <th>3</th>\n",
       "      <td>1</td>\n",
       "      <td>36</td>\n",
       "      <td>180000</td>\n",
       "      <td>O</td>\n",
       "    </tr>\n",
       "  </tbody>\n",
       "</table>\n",
       "</div>"
      ],
      "text/plain": [
       "   Number of Kids  Age  Salary Blood Types\n",
       "0               3   45  250000           A\n",
       "1               1   30  200000           B\n",
       "2               2   38  150000          AB\n",
       "3               1   36  180000           O"
      ]
     },
     "execution_count": 9,
     "metadata": {},
     "output_type": "execute_result"
    }
   ],
   "source": [
    "data.drop(\"Working Experience(years)\", axis=1) "
   ]
  },
  {
   "cell_type": "markdown",
   "metadata": {
    "id": "S9QKjLv7Aiv_"
   },
   "source": [
    "# **Option 3: Set the missing values to some value (zero the mean, the median,etc.) on the training set**"
   ]
  },
  {
   "cell_type": "markdown",
   "metadata": {
    "id": "6qeLt6_XDVXv"
   },
   "source": [
    "# **Set the missing values to zero**"
   ]
  },
  {
   "cell_type": "code",
   "execution_count": 10,
   "metadata": {
    "colab": {
     "base_uri": "https://localhost:8080/",
     "height": 172
    },
    "id": "i-niZddvBKn8",
    "outputId": "7664080a-eeb2-4d0e-9516-c06a95cdbd7b"
   },
   "outputs": [
    {
     "data": {
      "text/html": [
       "<div>\n",
       "<style scoped>\n",
       "    .dataframe tbody tr th:only-of-type {\n",
       "        vertical-align: middle;\n",
       "    }\n",
       "\n",
       "    .dataframe tbody tr th {\n",
       "        vertical-align: top;\n",
       "    }\n",
       "\n",
       "    .dataframe thead th {\n",
       "        text-align: right;\n",
       "    }\n",
       "</style>\n",
       "<table border=\"1\" class=\"dataframe\">\n",
       "  <thead>\n",
       "    <tr style=\"text-align: right;\">\n",
       "      <th></th>\n",
       "      <th>Number of Kids</th>\n",
       "      <th>Working Experience(years)</th>\n",
       "      <th>Age</th>\n",
       "      <th>Salary</th>\n",
       "      <th>Blood Types</th>\n",
       "    </tr>\n",
       "  </thead>\n",
       "  <tbody>\n",
       "    <tr>\n",
       "      <th>0</th>\n",
       "      <td>3</td>\n",
       "      <td>15.0</td>\n",
       "      <td>45</td>\n",
       "      <td>250000</td>\n",
       "      <td>A</td>\n",
       "    </tr>\n",
       "    <tr>\n",
       "      <th>1</th>\n",
       "      <td>1</td>\n",
       "      <td>5.0</td>\n",
       "      <td>30</td>\n",
       "      <td>200000</td>\n",
       "      <td>B</td>\n",
       "    </tr>\n",
       "    <tr>\n",
       "      <th>2</th>\n",
       "      <td>2</td>\n",
       "      <td>10.0</td>\n",
       "      <td>38</td>\n",
       "      <td>150000</td>\n",
       "      <td>AB</td>\n",
       "    </tr>\n",
       "    <tr>\n",
       "      <th>3</th>\n",
       "      <td>1</td>\n",
       "      <td>0.0</td>\n",
       "      <td>36</td>\n",
       "      <td>180000</td>\n",
       "      <td>O</td>\n",
       "    </tr>\n",
       "  </tbody>\n",
       "</table>\n",
       "</div>"
      ],
      "text/plain": [
       "   Number of Kids  Working Experience(years)  Age  Salary Blood Types\n",
       "0               3                       15.0   45  250000           A\n",
       "1               1                        5.0   30  200000           B\n",
       "2               2                       10.0   38  150000          AB\n",
       "3               1                        0.0   36  180000           O"
      ]
     },
     "execution_count": 10,
     "metadata": {},
     "output_type": "execute_result"
    }
   ],
   "source": [
    "data = pd.read_csv(\"data.csv\")\n",
    "data[\"Working Experience(years)\"].fillna(0, inplace=True)\n",
    "data"
   ]
  },
  {
   "cell_type": "markdown",
   "metadata": {
    "id": "PA1bG3vLEC4l"
   },
   "source": [
    "# **Set the missing values to Mean**"
   ]
  },
  {
   "cell_type": "code",
   "execution_count": 11,
   "metadata": {
    "colab": {
     "base_uri": "https://localhost:8080/",
     "height": 172
    },
    "id": "ibebDWah-qNw",
    "outputId": "23b2c161-21a0-489c-e35d-0d6223b58d51"
   },
   "outputs": [
    {
     "data": {
      "text/html": [
       "<div>\n",
       "<style scoped>\n",
       "    .dataframe tbody tr th:only-of-type {\n",
       "        vertical-align: middle;\n",
       "    }\n",
       "\n",
       "    .dataframe tbody tr th {\n",
       "        vertical-align: top;\n",
       "    }\n",
       "\n",
       "    .dataframe thead th {\n",
       "        text-align: right;\n",
       "    }\n",
       "</style>\n",
       "<table border=\"1\" class=\"dataframe\">\n",
       "  <thead>\n",
       "    <tr style=\"text-align: right;\">\n",
       "      <th></th>\n",
       "      <th>Number of Kids</th>\n",
       "      <th>Working Experience(years)</th>\n",
       "      <th>Age</th>\n",
       "      <th>Salary</th>\n",
       "      <th>Blood Types</th>\n",
       "    </tr>\n",
       "  </thead>\n",
       "  <tbody>\n",
       "    <tr>\n",
       "      <th>0</th>\n",
       "      <td>3</td>\n",
       "      <td>15.0</td>\n",
       "      <td>45</td>\n",
       "      <td>250000</td>\n",
       "      <td>A</td>\n",
       "    </tr>\n",
       "    <tr>\n",
       "      <th>1</th>\n",
       "      <td>1</td>\n",
       "      <td>5.0</td>\n",
       "      <td>30</td>\n",
       "      <td>200000</td>\n",
       "      <td>B</td>\n",
       "    </tr>\n",
       "    <tr>\n",
       "      <th>2</th>\n",
       "      <td>2</td>\n",
       "      <td>10.0</td>\n",
       "      <td>38</td>\n",
       "      <td>150000</td>\n",
       "      <td>AB</td>\n",
       "    </tr>\n",
       "    <tr>\n",
       "      <th>3</th>\n",
       "      <td>1</td>\n",
       "      <td>0.0</td>\n",
       "      <td>36</td>\n",
       "      <td>180000</td>\n",
       "      <td>O</td>\n",
       "    </tr>\n",
       "  </tbody>\n",
       "</table>\n",
       "</div>"
      ],
      "text/plain": [
       "   Number of Kids  Working Experience(years)  Age  Salary Blood Types\n",
       "0               3                       15.0   45  250000           A\n",
       "1               1                        5.0   30  200000           B\n",
       "2               2                       10.0   38  150000          AB\n",
       "3               1                        0.0   36  180000           O"
      ]
     },
     "execution_count": 11,
     "metadata": {},
     "output_type": "execute_result"
    }
   ],
   "source": [
    "data[\"Working Experience(years)\"].fillna(data[\"Working Experience(years)\"]\n",
    "                                         .mean(),inplace=True)\n",
    "data"
   ]
  },
  {
   "cell_type": "markdown",
   "metadata": {
    "id": "KTk3VbTmDq9Z"
   },
   "source": [
    "# **Set the missing values to Median**"
   ]
  },
  {
   "cell_type": "code",
   "execution_count": 12,
   "metadata": {
    "colab": {
     "base_uri": "https://localhost:8080/",
     "height": 172
    },
    "id": "tcrgwVbHBcKo",
    "outputId": "bf643cfd-f4de-45fc-ac4d-a881bbc31c78"
   },
   "outputs": [
    {
     "data": {
      "text/html": [
       "<div>\n",
       "<style scoped>\n",
       "    .dataframe tbody tr th:only-of-type {\n",
       "        vertical-align: middle;\n",
       "    }\n",
       "\n",
       "    .dataframe tbody tr th {\n",
       "        vertical-align: top;\n",
       "    }\n",
       "\n",
       "    .dataframe thead th {\n",
       "        text-align: right;\n",
       "    }\n",
       "</style>\n",
       "<table border=\"1\" class=\"dataframe\">\n",
       "  <thead>\n",
       "    <tr style=\"text-align: right;\">\n",
       "      <th></th>\n",
       "      <th>Number of Kids</th>\n",
       "      <th>Working Experience(years)</th>\n",
       "      <th>Age</th>\n",
       "      <th>Salary</th>\n",
       "      <th>Blood Types</th>\n",
       "    </tr>\n",
       "  </thead>\n",
       "  <tbody>\n",
       "    <tr>\n",
       "      <th>0</th>\n",
       "      <td>3</td>\n",
       "      <td>15.0</td>\n",
       "      <td>45</td>\n",
       "      <td>250000</td>\n",
       "      <td>A</td>\n",
       "    </tr>\n",
       "    <tr>\n",
       "      <th>1</th>\n",
       "      <td>1</td>\n",
       "      <td>5.0</td>\n",
       "      <td>30</td>\n",
       "      <td>200000</td>\n",
       "      <td>B</td>\n",
       "    </tr>\n",
       "    <tr>\n",
       "      <th>2</th>\n",
       "      <td>2</td>\n",
       "      <td>10.0</td>\n",
       "      <td>38</td>\n",
       "      <td>150000</td>\n",
       "      <td>AB</td>\n",
       "    </tr>\n",
       "    <tr>\n",
       "      <th>3</th>\n",
       "      <td>1</td>\n",
       "      <td>10.0</td>\n",
       "      <td>36</td>\n",
       "      <td>180000</td>\n",
       "      <td>O</td>\n",
       "    </tr>\n",
       "  </tbody>\n",
       "</table>\n",
       "</div>"
      ],
      "text/plain": [
       "   Number of Kids  Working Experience(years)  Age  Salary Blood Types\n",
       "0               3                       15.0   45  250000           A\n",
       "1               1                        5.0   30  200000           B\n",
       "2               2                       10.0   38  150000          AB\n",
       "3               1                       10.0   36  180000           O"
      ]
     },
     "execution_count": 12,
     "metadata": {},
     "output_type": "execute_result"
    }
   ],
   "source": [
    "data = pd.read_csv(\"data.csv\")\n",
    "data[\"Working Experience(years)\"].fillna(data[\"Working Experience(years)\"]\n",
    "                                         .median(),inplace=True)\n",
    "data"
   ]
  },
  {
   "cell_type": "markdown",
   "metadata": {
    "id": "JzRP5PNVwKRM"
   },
   "source": [
    "# **Sciki-Learn's Approach to replace missing values of all attributes: Imputer**"
   ]
  },
  {
   "cell_type": "markdown",
   "metadata": {
    "id": "St7-23yqv6MI"
   },
   "source": [
    "# Since the median can only be computed on numerical attributes, we need to create a copy of the data without the text attribute Blood Types"
   ]
  },
  {
   "cell_type": "code",
   "execution_count": 13,
   "metadata": {
    "colab": {
     "base_uri": "https://localhost:8080/",
     "height": 0
    },
    "id": "wxCcfIaLuw0D",
    "outputId": "c9d2ea63-7cfb-4012-f26a-e91955e9c1b1"
   },
   "outputs": [
    {
     "name": "stdout",
     "output_type": "stream",
     "text": [
      "   Number of Kids  Working Experience(years)  Age  Salary Blood Types\n",
      "0               3                       15.0   45  250000           A\n",
      "1               1                        5.0   30  200000           B\n",
      "2               2                       10.0   38  150000          AB\n",
      "3               1                        NaN   36  180000           O\n",
      "   Number of Kids  Working Experience(years)   Age    Salary\n",
      "0             3.0                       15.0  45.0  250000.0\n",
      "1             1.0                        5.0  30.0  200000.0\n",
      "2             2.0                       10.0  38.0  150000.0\n",
      "3             1.0                       10.0  36.0  180000.0\n"
     ]
    }
   ],
   "source": [
    "data = pd.read_csv(\"data.csv\")\n",
    "print(data)\n",
    "from sklearn.impute import SimpleImputer\n",
    "imputer = SimpleImputer(missing_values=np.nan, strategy='median')\n",
    "#Since the median can only be computed on numerical attributes drop Blood Types\n",
    "no_of_kids = data.drop(\"Blood Types\", axis=1) \n",
    "imputer.fit(no_of_kids)\n",
    "X = imputer.transform(no_of_kids)\n",
    "missingValue = pd.DataFrame(X, columns=no_of_kids.columns)\n",
    "print(missingValue)"
   ]
  },
  {
   "cell_type": "markdown",
   "metadata": {
    "id": "sxf9ke7ykgpa"
   },
   "source": [
    "# **Finding Correlation between two variables**"
   ]
  },
  {
   "cell_type": "code",
   "execution_count": 14,
   "metadata": {
    "colab": {
     "base_uri": "https://localhost:8080/",
     "height": 0
    },
    "id": "HKMUvXSjyi2f",
    "outputId": "940a94f2-bca2-447a-d4ef-8a0b58b7dc89"
   },
   "outputs": [
    {
     "data": {
      "text/plain": [
       "0.9147673836616229"
      ]
     },
     "execution_count": 14,
     "metadata": {},
     "output_type": "execute_result"
    }
   ],
   "source": [
    "# Compare to both attributes, Age attribute is more related to \"Number of Kids\"\n",
    "data[\"Number of Kids\"].corr(data[\"Age\"]) "
   ]
  },
  {
   "cell_type": "code",
   "execution_count": 22,
   "metadata": {
    "colab": {
     "base_uri": "https://localhost:8080/",
     "height": 0
    },
    "id": "dYE5XlTP0jif",
    "outputId": "31d1f29d-f9d3-436e-ad0d-18db7cd4c46a"
   },
   "outputs": [
    {
     "data": {
      "text/plain": [
       "0.8528028654224418"
      ]
     },
     "execution_count": 22,
     "metadata": {},
     "output_type": "execute_result"
    }
   ],
   "source": [
    "data[\"Number of Kids\"].corr(data[\"Working Experience(years)\"])"
   ]
  },
  {
   "cell_type": "markdown",
   "metadata": {
    "id": "bfhEe7TxYk9m"
   },
   "source": [
    "# **Convertion from text categories to One-Hot Vectors**"
   ]
  },
  {
   "cell_type": "markdown",
   "metadata": {
    "id": "7KEHmAPqZQRA"
   },
   "source": [
    "# Step 1: Convert from text categories to integer categories"
   ]
  },
  {
   "cell_type": "code",
   "execution_count": 23,
   "metadata": {
    "colab": {
     "base_uri": "https://localhost:8080/",
     "height": 0
    },
    "id": "QpTunxgT7hDF",
    "outputId": "1ff828c4-b1cc-407f-f56b-ecbc2e967468"
   },
   "outputs": [
    {
     "name": "stdout",
     "output_type": "stream",
     "text": [
      "[0 1 2 3]\n",
      "Index(['A', 'B', 'AB', 'O'], dtype='object')\n"
     ]
    }
   ],
   "source": [
    "blood_types_encoded,blood_types_categories=data[\"Blood Types\"].factorize()\n",
    "print(blood_types_encoded)\n",
    "print(blood_types_categories)"
   ]
  },
  {
   "cell_type": "markdown",
   "metadata": {
    "id": "w4VbBMeQZdEc"
   },
   "source": [
    "# Step 2: Convert from integer categories to One-Hot Vectors"
   ]
  },
  {
   "cell_type": "code",
   "execution_count": 24,
   "metadata": {
    "colab": {
     "base_uri": "https://localhost:8080/",
     "height": 0
    },
    "id": "N59eWsuT87vA",
    "outputId": "d3c00cde-c01e-4341-a4e3-acc41de3b08b"
   },
   "outputs": [
    {
     "data": {
      "text/plain": [
       "array([[1., 0., 0., 0.],\n",
       "       [0., 1., 0., 0.],\n",
       "       [0., 0., 1., 0.],\n",
       "       [0., 0., 0., 1.]])"
      ]
     },
     "execution_count": 24,
     "metadata": {},
     "output_type": "execute_result"
    }
   ],
   "source": [
    "from sklearn.preprocessing import OneHotEncoder\n",
    "encoder = OneHotEncoder(sparse=False)\n",
    "blood_type_1hot = encoder.fit_transform(blood_types_encoded.reshape(-1,1))\n",
    "blood_type_1hot"
   ]
  },
  {
   "cell_type": "code",
   "execution_count": 25,
   "metadata": {
    "colab": {
     "base_uri": "https://localhost:8080/",
     "height": 172
    },
    "id": "3sxgojtX-7uC",
    "outputId": "e1b7feda-e8c1-4800-e2f0-5fe7d9bf186b"
   },
   "outputs": [
    {
     "data": {
      "text/html": [
       "<div>\n",
       "<style scoped>\n",
       "    .dataframe tbody tr th:only-of-type {\n",
       "        vertical-align: middle;\n",
       "    }\n",
       "\n",
       "    .dataframe tbody tr th {\n",
       "        vertical-align: top;\n",
       "    }\n",
       "\n",
       "    .dataframe thead th {\n",
       "        text-align: right;\n",
       "    }\n",
       "</style>\n",
       "<table border=\"1\" class=\"dataframe\">\n",
       "  <thead>\n",
       "    <tr style=\"text-align: right;\">\n",
       "      <th></th>\n",
       "      <th>Number of Kids</th>\n",
       "      <th>Working Experience(years)</th>\n",
       "      <th>Age</th>\n",
       "      <th>Salary</th>\n",
       "      <th>Blood Types_A</th>\n",
       "      <th>Blood Types_AB</th>\n",
       "      <th>Blood Types_B</th>\n",
       "      <th>Blood Types_O</th>\n",
       "    </tr>\n",
       "  </thead>\n",
       "  <tbody>\n",
       "    <tr>\n",
       "      <th>0</th>\n",
       "      <td>3</td>\n",
       "      <td>15.0</td>\n",
       "      <td>45</td>\n",
       "      <td>250000</td>\n",
       "      <td>1</td>\n",
       "      <td>0</td>\n",
       "      <td>0</td>\n",
       "      <td>0</td>\n",
       "    </tr>\n",
       "    <tr>\n",
       "      <th>1</th>\n",
       "      <td>1</td>\n",
       "      <td>5.0</td>\n",
       "      <td>30</td>\n",
       "      <td>200000</td>\n",
       "      <td>0</td>\n",
       "      <td>0</td>\n",
       "      <td>1</td>\n",
       "      <td>0</td>\n",
       "    </tr>\n",
       "    <tr>\n",
       "      <th>2</th>\n",
       "      <td>2</td>\n",
       "      <td>10.0</td>\n",
       "      <td>38</td>\n",
       "      <td>150000</td>\n",
       "      <td>0</td>\n",
       "      <td>1</td>\n",
       "      <td>0</td>\n",
       "      <td>0</td>\n",
       "    </tr>\n",
       "    <tr>\n",
       "      <th>3</th>\n",
       "      <td>1</td>\n",
       "      <td>10.0</td>\n",
       "      <td>36</td>\n",
       "      <td>180000</td>\n",
       "      <td>0</td>\n",
       "      <td>0</td>\n",
       "      <td>0</td>\n",
       "      <td>1</td>\n",
       "    </tr>\n",
       "  </tbody>\n",
       "</table>\n",
       "</div>"
      ],
      "text/plain": [
       "   Number of Kids  Working Experience(years)  Age  Salary  Blood Types_A  \\\n",
       "0               3                       15.0   45  250000              1   \n",
       "1               1                        5.0   30  200000              0   \n",
       "2               2                       10.0   38  150000              0   \n",
       "3               1                       10.0   36  180000              0   \n",
       "\n",
       "   Blood Types_AB  Blood Types_B  Blood Types_O  \n",
       "0               0              0              0  \n",
       "1               0              1              0  \n",
       "2               1              0              0  \n",
       "3               0              0              1  "
      ]
     },
     "execution_count": 25,
     "metadata": {},
     "output_type": "execute_result"
    }
   ],
   "source": [
    "data[\"Working Experience(years)\"].fillna(data[\"Working Experience(years)\"]\n",
    "                                         .median(),inplace=True)\n",
    "one_hot_Vector=pd.get_dummies(data,columns=[\"Blood Types\"])\n",
    "one_hot_Vector\n"
   ]
  },
  {
   "cell_type": "markdown",
   "metadata": {
    "id": "numX9YL3hunt"
   },
   "source": [
    "# **Feature Scaling**"
   ]
  },
  {
   "cell_type": "code",
   "execution_count": 26,
   "metadata": {
    "colab": {
     "base_uri": "https://localhost:8080/",
     "height": 0
    },
    "id": "rKbLn2WtGnjN",
    "outputId": "08681fc3-b183-4c6b-ea57-8712fe3a564a"
   },
   "outputs": [
    {
     "name": "stdout",
     "output_type": "stream",
     "text": [
      "StandardScaler()\n",
      "[1.750e+00 1.000e+01 3.725e+01 1.950e+05 2.500e-01 2.500e-01 2.500e-01\n",
      " 2.500e-01]\n",
      "[[ 1.50755672  1.41421356  1.44695609  1.5109662   1.73205081 -0.57735027\n",
      "  -0.57735027 -0.57735027]\n",
      " [-0.90453403 -1.41421356 -1.35360408  0.13736056 -0.57735027 -0.57735027\n",
      "   1.73205081 -0.57735027]\n",
      " [ 0.30151134  0.          0.14002801 -1.23624508 -0.57735027  1.73205081\n",
      "  -0.57735027 -0.57735027]\n",
      " [-0.90453403  0.         -0.23338001 -0.41208169 -0.57735027 -0.57735027\n",
      "  -0.57735027  1.73205081]]\n"
     ]
    }
   ],
   "source": [
    "from sklearn.preprocessing import StandardScaler\n",
    "scaler = StandardScaler()\n",
    "print(scaler.fit(one_hot_Vector))\n",
    "print(scaler.mean_)\n",
    "print(scaler.transform(one_hot_Vector))"
   ]
  },
  {
   "cell_type": "markdown",
   "metadata": {
    "id": "cuwo2D_gjHU4"
   },
   "source": [
    "# StandardScaler for Standardization."
   ]
  },
  {
   "cell_type": "code",
   "execution_count": 27,
   "metadata": {
    "colab": {
     "base_uri": "https://localhost:8080/",
     "height": 172
    },
    "id": "Dgs3AnDYWYRY",
    "outputId": "cb5f00b6-a082-453f-a0f2-72b02139d91e",
    "scrolled": true
   },
   "outputs": [
    {
     "data": {
      "text/html": [
       "<div>\n",
       "<style scoped>\n",
       "    .dataframe tbody tr th:only-of-type {\n",
       "        vertical-align: middle;\n",
       "    }\n",
       "\n",
       "    .dataframe tbody tr th {\n",
       "        vertical-align: top;\n",
       "    }\n",
       "\n",
       "    .dataframe thead th {\n",
       "        text-align: right;\n",
       "    }\n",
       "</style>\n",
       "<table border=\"1\" class=\"dataframe\">\n",
       "  <thead>\n",
       "    <tr style=\"text-align: right;\">\n",
       "      <th></th>\n",
       "      <th>Number of Kids</th>\n",
       "      <th>Working Experience(years)</th>\n",
       "      <th>Age</th>\n",
       "      <th>Salary</th>\n",
       "      <th>Blood Types_A</th>\n",
       "      <th>Blood Types_AB</th>\n",
       "      <th>Blood Type_B</th>\n",
       "      <th>Blood Types_O</th>\n",
       "    </tr>\n",
       "  </thead>\n",
       "  <tbody>\n",
       "    <tr>\n",
       "      <th>0</th>\n",
       "      <td>1.507557</td>\n",
       "      <td>1.414214</td>\n",
       "      <td>1.446956</td>\n",
       "      <td>1.510966</td>\n",
       "      <td>1.732051</td>\n",
       "      <td>-0.577350</td>\n",
       "      <td>-0.577350</td>\n",
       "      <td>-0.577350</td>\n",
       "    </tr>\n",
       "    <tr>\n",
       "      <th>1</th>\n",
       "      <td>-0.904534</td>\n",
       "      <td>-1.414214</td>\n",
       "      <td>-1.353604</td>\n",
       "      <td>0.137361</td>\n",
       "      <td>-0.577350</td>\n",
       "      <td>-0.577350</td>\n",
       "      <td>1.732051</td>\n",
       "      <td>-0.577350</td>\n",
       "    </tr>\n",
       "    <tr>\n",
       "      <th>2</th>\n",
       "      <td>0.301511</td>\n",
       "      <td>0.000000</td>\n",
       "      <td>0.140028</td>\n",
       "      <td>-1.236245</td>\n",
       "      <td>-0.577350</td>\n",
       "      <td>1.732051</td>\n",
       "      <td>-0.577350</td>\n",
       "      <td>-0.577350</td>\n",
       "    </tr>\n",
       "    <tr>\n",
       "      <th>3</th>\n",
       "      <td>-0.904534</td>\n",
       "      <td>0.000000</td>\n",
       "      <td>-0.233380</td>\n",
       "      <td>-0.412082</td>\n",
       "      <td>-0.577350</td>\n",
       "      <td>-0.577350</td>\n",
       "      <td>-0.577350</td>\n",
       "      <td>1.732051</td>\n",
       "    </tr>\n",
       "  </tbody>\n",
       "</table>\n",
       "</div>"
      ],
      "text/plain": [
       "   Number of Kids  Working Experience(years)       Age    Salary  \\\n",
       "0        1.507557                   1.414214  1.446956  1.510966   \n",
       "1       -0.904534                  -1.414214 -1.353604  0.137361   \n",
       "2        0.301511                   0.000000  0.140028 -1.236245   \n",
       "3       -0.904534                   0.000000 -0.233380 -0.412082   \n",
       "\n",
       "   Blood Types_A  Blood Types_AB  Blood Type_B  Blood Types_O  \n",
       "0       1.732051       -0.577350     -0.577350      -0.577350  \n",
       "1      -0.577350       -0.577350      1.732051      -0.577350  \n",
       "2      -0.577350        1.732051     -0.577350      -0.577350  \n",
       "3      -0.577350       -0.577350     -0.577350       1.732051  "
      ]
     },
     "execution_count": 27,
     "metadata": {},
     "output_type": "execute_result"
    }
   ],
   "source": [
    "#standardization does not bound values to a specific range\n",
    "scaler = StandardScaler() \n",
    "Standard_Scaled = pd.DataFrame(scaler.fit_transform(one_hot_Vector),\n",
    "columns=[\"Number of Kids\",\"Working Experience(years)\",\"Age\",\"Salary\",\n",
    "         \"Blood Types_A\",\"Blood Types_AB\",\"Blood Type_B\",\"Blood Types_O\"])\n",
    "Standard_Scaled"
   ]
  },
  {
   "cell_type": "markdown",
   "metadata": {
    "id": "S12G-xbbix2_"
   },
   "source": [
    "# Min-Max Scaling"
   ]
  },
  {
   "cell_type": "code",
   "execution_count": 28,
   "metadata": {
    "colab": {
     "base_uri": "https://localhost:8080/",
     "height": 172
    },
    "id": "qicuGrOFiSwA",
    "outputId": "8da4160a-a8b7-4d7d-9988-c0e7c1fd1d76"
   },
   "outputs": [
    {
     "data": {
      "text/html": [
       "<div>\n",
       "<style scoped>\n",
       "    .dataframe tbody tr th:only-of-type {\n",
       "        vertical-align: middle;\n",
       "    }\n",
       "\n",
       "    .dataframe tbody tr th {\n",
       "        vertical-align: top;\n",
       "    }\n",
       "\n",
       "    .dataframe thead th {\n",
       "        text-align: right;\n",
       "    }\n",
       "</style>\n",
       "<table border=\"1\" class=\"dataframe\">\n",
       "  <thead>\n",
       "    <tr style=\"text-align: right;\">\n",
       "      <th></th>\n",
       "      <th>Number of Kids</th>\n",
       "      <th>Working Experience(years)</th>\n",
       "      <th>Age</th>\n",
       "      <th>Salary</th>\n",
       "      <th>Blood Types_A</th>\n",
       "      <th>Blood Types_AB</th>\n",
       "      <th>Blood Type_B</th>\n",
       "      <th>Blood Types_O</th>\n",
       "    </tr>\n",
       "  </thead>\n",
       "  <tbody>\n",
       "    <tr>\n",
       "      <th>0</th>\n",
       "      <td>1.0</td>\n",
       "      <td>1.0</td>\n",
       "      <td>1.000000</td>\n",
       "      <td>1.0</td>\n",
       "      <td>1.0</td>\n",
       "      <td>0.0</td>\n",
       "      <td>0.0</td>\n",
       "      <td>0.0</td>\n",
       "    </tr>\n",
       "    <tr>\n",
       "      <th>1</th>\n",
       "      <td>0.0</td>\n",
       "      <td>0.0</td>\n",
       "      <td>0.000000</td>\n",
       "      <td>0.5</td>\n",
       "      <td>0.0</td>\n",
       "      <td>0.0</td>\n",
       "      <td>1.0</td>\n",
       "      <td>0.0</td>\n",
       "    </tr>\n",
       "    <tr>\n",
       "      <th>2</th>\n",
       "      <td>0.5</td>\n",
       "      <td>0.5</td>\n",
       "      <td>0.533333</td>\n",
       "      <td>0.0</td>\n",
       "      <td>0.0</td>\n",
       "      <td>1.0</td>\n",
       "      <td>0.0</td>\n",
       "      <td>0.0</td>\n",
       "    </tr>\n",
       "    <tr>\n",
       "      <th>3</th>\n",
       "      <td>0.0</td>\n",
       "      <td>0.5</td>\n",
       "      <td>0.400000</td>\n",
       "      <td>0.3</td>\n",
       "      <td>0.0</td>\n",
       "      <td>0.0</td>\n",
       "      <td>0.0</td>\n",
       "      <td>1.0</td>\n",
       "    </tr>\n",
       "  </tbody>\n",
       "</table>\n",
       "</div>"
      ],
      "text/plain": [
       "   Number of Kids  Working Experience(years)       Age  Salary  Blood Types_A  \\\n",
       "0             1.0                        1.0  1.000000     1.0            1.0   \n",
       "1             0.0                        0.0  0.000000     0.5            0.0   \n",
       "2             0.5                        0.5  0.533333     0.0            0.0   \n",
       "3             0.0                        0.5  0.400000     0.3            0.0   \n",
       "\n",
       "   Blood Types_AB  Blood Type_B  Blood Types_O  \n",
       "0             0.0           0.0            0.0  \n",
       "1             0.0           1.0            0.0  \n",
       "2             1.0           0.0            0.0  \n",
       "3             0.0           0.0            1.0  "
      ]
     },
     "execution_count": 28,
     "metadata": {},
     "output_type": "execute_result"
    }
   ],
   "source": [
    " # Min-max scaling values are shifted and rescaled so that they end up ranging from 0 to 1.\n",
    "from sklearn.preprocessing import MinMaxScaler\n",
    "scaler = MinMaxScaler()\n",
    "Minmax_scaled = pd.DataFrame(scaler.fit_transform(one_hot_Vector),\n",
    "columns=[\"Number of Kids\",\"Working Experience(years)\",\"Age\",\"Salary\",\n",
    "         \"Blood Types_A\",\"Blood Types_AB\",\"Blood Type_B\",\"Blood Types_O\"])\n",
    "Minmax_scaled"
   ]
  }
 ],
 "metadata": {
  "colab": {
   "name": "Number of kids prediction - Preprocessing Data.ipynb",
   "provenance": []
  },
  "kernelspec": {
   "display_name": "Python 3",
   "language": "python",
   "name": "python3"
  },
  "language_info": {
   "codemirror_mode": {
    "name": "ipython",
    "version": 3
   },
   "file_extension": ".py",
   "mimetype": "text/x-python",
   "name": "python",
   "nbconvert_exporter": "python",
   "pygments_lexer": "ipython3",
   "version": "3.9.1"
  }
 },
 "nbformat": 4,
 "nbformat_minor": 1
}
